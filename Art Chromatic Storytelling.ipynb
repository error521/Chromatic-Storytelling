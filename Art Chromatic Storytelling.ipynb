{
 "cells": [
  {
   "cell_type": "code",
   "execution_count": 14,
   "metadata": {
    "collapsed": true
   },
   "outputs": [],
   "source": [
    "import os\n",
    "from os import listdir\n",
    "# import the necessary packages\n",
    "from sklearn.cluster import KMeans\n",
    "import matplotlib.pyplot as plt\n",
    "import argparse\n",
    "import cv2\n",
    "import numpy as np\n",
    "import PIL\n",
    "from PIL import Image"
   ]
  },
  {
   "cell_type": "code",
   "execution_count": 15,
   "metadata": {
    "collapsed": true
   },
   "outputs": [],
   "source": [
    "filepath2021 = \"C:\\\\Users\\\\wanzh\\\\Pictures\\\\Art\\\\2021 Art\\\\Art\\\\\"\n",
    "filepath2022 = \"C:\\\\Users\\\\wanzh\\\\Pictures\\\\Art\\\\2022 Art\\\\Art\\\\\"\n",
    "list2021 = os.listdir(filepath2021)\n",
    "list2022 = os.listdir(filepath2022)"
   ]
  },
  {
   "cell_type": "code",
   "execution_count": 16,
   "metadata": {
    "collapsed": true
   },
   "outputs": [],
   "source": [
    "resultfile = \"ArtChromaticStorytelling2022.png\""
   ]
  },
  {
   "cell_type": "code",
   "execution_count": 17,
   "metadata": {
    "collapsed": true
   },
   "outputs": [],
   "source": [
    "list2021= list2021[:-4]\n",
    "for item in list2021:\n",
    "    if \".jpg\" not in item:\n",
    "        list2021.remove(item)\n",
    "#list2021"
   ]
  },
  {
   "cell_type": "code",
   "execution_count": 18,
   "metadata": {
    "collapsed": true
   },
   "outputs": [],
   "source": [
    "list2022= list2022[:-3]\n",
    "for item in list2022:\n",
    "    if \".jpg\" not in item:\n",
    "        list2022.remove(item)"
   ]
  },
  {
   "cell_type": "code",
   "execution_count": 19,
   "metadata": {
    "collapsed": true
   },
   "outputs": [],
   "source": [
    "avgs = []"
   ]
  },
  {
   "cell_type": "code",
   "execution_count": 20,
   "metadata": {},
   "outputs": [],
   "source": [
    "for image_file in list2022:\n",
    "    filename = image_file.strip(\".jpg\")\n",
    "    image_path = os.path.join(filepath2022,image_file)\n",
    "    \n",
    "    # load the image and convert it from BGR to RGB so that\n",
    "    # we can display it with matplotlib\n",
    "    image = cv2.imread(image_path)\n",
    "    scale_percent = 30 # percent of original size\n",
    "    width = int(image.shape[1] * scale_percent / 100)\n",
    "    height = int(image.shape[0] * scale_percent / 100)\n",
    "    dim = (width, height)\n",
    "\n",
    "    # resize image\n",
    "    image = cv2.resize(image, dim, interpolation = cv2.INTER_AREA)\n",
    "    image = cv2.cvtColor(image, cv2.COLOR_BGR2RGB)\n",
    "    \n",
    "    \n",
    "    \n",
    "    # reshape the image to be a list of pixels\n",
    "    image = image.reshape((image.shape[0] * image.shape[1], 3))\n",
    "    image = np.delete(image, np.where(image == [255, 255, 255]), axis=0)\n",
    "    image = np.delete(image, np.where(image == [0, 0, 0]), axis=0)\n",
    "    \n",
    "    pixels = np.float32(image.reshape(-1, 3))\n",
    "    \n",
    "    n_colors = 1\n",
    "    criteria = (cv2.TERM_CRITERIA_EPS + cv2.TERM_CRITERIA_MAX_ITER, 200, .1)\n",
    "    flags = cv2.KMEANS_RANDOM_CENTERS\n",
    "\n",
    "    _, labels, palette = cv2.kmeans(pixels, n_colors, None, criteria, 10, flags)\n",
    "    _, counts = np.unique(labels, return_counts=True)\n",
    "    dominant = palette[np.argmax(counts)]\n",
    "    #print(dominant)\n",
    "    avgs.append(dominant)\n",
    "\n",
    "    "
   ]
  },
  {
   "cell_type": "code",
   "execution_count": 21,
   "metadata": {},
   "outputs": [
    {
     "data": {
      "text/plain": [
       "-1"
      ]
     },
     "execution_count": 21,
     "metadata": {},
     "output_type": "execute_result"
    }
   ],
   "source": [
    "avgs = np.array(avgs, dtype=\"int\")\n",
    "#print(avgs)\n",
    "# grab the individual bar width and allocate memory for\n",
    "# the barcode visualization\n",
    "height = 250\n",
    "bw = 10\n",
    "barcode = np.zeros((height, len(avgs) * bw, 3),dtype=\"uint8\")\n",
    "\n",
    "# loop over the averages and create a single 'bar' for\n",
    "# each frame average in the list\n",
    "for (i, avg) in enumerate(avgs):\n",
    "    #print(avg)\n",
    "    cv2.rectangle(barcode, (i * bw, 0), ((i + 1) * bw,height), (int(avg[2]),int(avg[1]),int(avg[0])), -1)\n",
    "# write the video barcode visualization to file and then\n",
    "# display it to our screen\n",
    "cv2.imwrite(resultfile, barcode)\n",
    "cv2.imshow(\"Barcode\", barcode)\n",
    "cv2.waitKey(0)"
   ]
  },
  {
   "cell_type": "code",
   "execution_count": null,
   "metadata": {
    "collapsed": true
   },
   "outputs": [],
   "source": []
  }
 ],
 "metadata": {
  "kernelspec": {
   "display_name": "Python 3 (ipykernel)",
   "language": "python",
   "name": "python3"
  },
  "language_info": {
   "codemirror_mode": {
    "name": "ipython",
    "version": 3
   },
   "file_extension": ".py",
   "mimetype": "text/x-python",
   "name": "python",
   "nbconvert_exporter": "python",
   "pygments_lexer": "ipython3",
   "version": "3.9.7"
  }
 },
 "nbformat": 4,
 "nbformat_minor": 2
}
